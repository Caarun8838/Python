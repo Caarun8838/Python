{
 "cells": [
  {
   "cell_type": "markdown",
   "id": "2789f6bd",
   "metadata": {},
   "source": [
    "# Python coding sets assignment"
   ]
  },
  {
   "cell_type": "markdown",
   "id": "80840683",
   "metadata": {},
   "source": [
    "Question 1: Write a Python program to create an empty set."
   ]
  },
  {
   "cell_type": "code",
   "execution_count": 1,
   "id": "577d0e7e",
   "metadata": {},
   "outputs": [
    {
     "data": {
      "text/plain": [
       "{}"
      ]
     },
     "execution_count": 1,
     "metadata": {},
     "output_type": "execute_result"
    }
   ],
   "source": [
    "empty_set={}\n",
    "empty_set\n"
   ]
  },
  {
   "cell_type": "markdown",
   "id": "c7e5276e",
   "metadata": {},
   "source": [
    "Question 2: Write a Python program to check if two sets are equal."
   ]
  },
  {
   "cell_type": "code",
   "execution_count": null,
   "id": "6af30b67",
   "metadata": {},
   "outputs": [],
   "source": [
    "def sets_are_equal(set1 , set2):\n",
    "    return set1==set2\n",
    "# Example sets\n",
    "# Example sets\n",
    "set_a = {1, 2, 3, 4}\n",
    "set_b = {3, 1, 2, 4}\n",
    "set_c = {1, 2, 3}\n",
    "set_d = {3, 5, 1}\n",
    "\n",
    "if sets_are_equal(set_a , set_b):\n",
    "    print('set_a , set_b are_equal')\n",
    "else:\n",
    "    print('set_a , set_b are not equal')\n",
    "\n",
    "if sets_are_equal(set_c , set_d):\n",
    "     print('set_c , set_d are_equal')\n",
    "else:Question 4: Write a Python program to remove an element from a set\n",
    "    print('set_c , set_d are not equal')\n"
   ]
  },
  {
   "cell_type": "markdown",
   "id": "aebfb340",
   "metadata": {},
   "source": [
    "Question 3: Write a Python program to add an element to a set."
   ]
  },
  {
   "cell_type": "code",
   "execution_count": 4,
   "id": "622803ab",
   "metadata": {},
   "outputs": [
    {
     "data": {
      "text/plain": [
       "{1, 2, 3, 4, 25}"
      ]
     },
     "execution_count": 4,
     "metadata": {},
     "output_type": "execute_result"
    }
   ],
   "source": [
    "set_a = {1, 2, 3, 4}\n",
    "set_a.add(25)\n",
    "set_a\n"
   ]
  },
  {
   "cell_type": "markdown",
   "id": "32bbb5b5",
   "metadata": {},
   "source": [
    "Question 4: Write a Python program to remove an element from a set"
   ]
  },
  {
   "cell_type": "code",
   "execution_count": 5,
   "id": "d6adfede",
   "metadata": {},
   "outputs": [
    {
     "data": {
      "text/plain": [
       "{1, 2, 3, 4}"
      ]
     },
     "execution_count": 5,
     "metadata": {},
     "output_type": "execute_result"
    }
   ],
   "source": [
    "set_a = {1, 2, 3, 4, 25}\n",
    "set_a.remove(25)\n",
    "set_a\n"
   ]
  },
  {
   "cell_type": "markdown",
   "id": "cf440430",
   "metadata": {},
   "source": [
    "Question 5: Write a Python program to find the union of two sets."
   ]
  },
  {
   "cell_type": "code",
   "execution_count": 6,
   "id": "96c1bc24",
   "metadata": {},
   "outputs": [
    {
     "name": "stdout",
     "output_type": "stream",
     "text": [
      "union of two sets: {1, 2, 3, 4, 5, 6, 7, 8}\n"
     ]
    }
   ],
   "source": [
    "set_x = {1, 2, 3, 4, 5}\n",
    "set_y = {4, 5, 6, 7, 8}\n",
    "\n",
    "union_set=set_x.union(set_y)\n",
    "print('union of two sets:', union_set)\n"
   ]
  },
  {
   "cell_type": "markdown",
   "id": "5d5ab639",
   "metadata": {},
   "source": [
    "Question 6: Write a Python program to find the intersection of two sets."
   ]
  },
  {
   "cell_type": "code",
   "execution_count": 7,
   "id": "83116722",
   "metadata": {},
   "outputs": [
    {
     "name": "stdout",
     "output_type": "stream",
     "text": [
      "intersection of two sets: {50, 10}\n"
     ]
    }
   ],
   "source": [
    "set_l = {10, 20, 30, 4, 50}\n",
    "set_m = {40, 50, 10, 70, 90}\n",
    "\n",
    "intersection=set_l.intersection(set_m)\n",
    "print('intersection of two sets:', intersection)\n"
   ]
  },
  {
   "cell_type": "markdown",
   "id": "8e0e05ca",
   "metadata": {},
   "source": [
    "Question 7: Write a Python program to find the difference between two sets."
   ]
  },
  {
   "cell_type": "code",
   "execution_count": 8,
   "id": "116650d1",
   "metadata": {},
   "outputs": [
    {
     "name": "stdout",
     "output_type": "stream",
     "text": [
      "difference between two sets: {4, 20, 30}\n"
     ]
    }
   ],
   "source": [
    "set_l = {10, 20, 30, 4, 50}\n",
    "set_m = {40, 50, 10, 70, 90}\n",
    "\n",
    "difference=set_l.difference(set_m)\n",
    "print('difference between two sets:',difference)\n"
   ]
  },
  {
   "cell_type": "markdown",
   "id": "ed78873d",
   "metadata": {},
   "source": [
    "Question 8: Write a Python program to check if a set is a subset of another set."
   ]
  },
  {
   "cell_type": "code",
   "execution_count": 9,
   "id": "a05d595b",
   "metadata": {},
   "outputs": [
    {
     "data": {
      "text/plain": [
       "False"
      ]
     },
     "execution_count": 9,
     "metadata": {},
     "output_type": "execute_result"
    }
   ],
   "source": [
    "set_l = {10, 20, 30, 4, 50}\n",
    "set_m = {40, 50, 10, 70, 90} \n",
    "subset=set_l.issubset(set_m)\n",
    "subset\n"
   ]
  },
  {
   "cell_type": "markdown",
   "id": "3d32d56a",
   "metadata": {},
   "source": [
    "Question 9: Write a Python program to remove all duplicate elements from a set."
   ]
  },
  {
   "cell_type": "code",
   "execution_count": 10,
   "id": "c3548fa5",
   "metadata": {},
   "outputs": [
    {
     "data": {
      "text/plain": [
       "{4, 10, 20, 30, 50}"
      ]
     },
     "execution_count": 10,
     "metadata": {},
     "output_type": "execute_result"
    }
   ],
   "source": [
    "set_l = {10, 20, 30, 4, 50, 20,10,4}\n",
    "\n",
    "set_2=set(set_l)\n",
    "set_2\n"
   ]
  },
  {
   "cell_type": "markdown",
   "id": "8d8c284c",
   "metadata": {},
   "source": [
    "# Python Coding on Dictionary Assignment"
   ]
  },
  {
   "cell_type": "markdown",
   "id": "0153f731",
   "metadata": {},
   "source": [
    "Question 1: Write a Python program to create an empty dictionary."
   ]
  },
  {
   "cell_type": "code",
   "execution_count": 11,
   "id": "005c51a3",
   "metadata": {},
   "outputs": [
    {
     "name": "stdout",
     "output_type": "stream",
     "text": [
      "Data type <class 'dict'> {}\n"
     ]
    }
   ],
   "source": [
    "empty_dictionary={}\n",
    "print('Data type', type(empty_dictionary), empty_dictionary)\n"
   ]
  },
  {
   "cell_type": "markdown",
   "id": "2e305fbc",
   "metadata": {},
   "source": [
    "Question 2: Write a Python program to add a key-value pair to a dictionary."
   ]
  },
  {
   "cell_type": "code",
   "execution_count": 12,
   "id": "77ad1cbd",
   "metadata": {},
   "outputs": [
    {
     "name": "stdout",
     "output_type": "stream",
     "text": [
      "new key-value pair to a dictionary: {'jaipur': 25, 'delhi': 20, 'Mumbai': 65, 'nagpur': 85, 'kolkata': 84}\n"
     ]
    }
   ],
   "source": [
    "dic_1={'jaipur':25, 'delhi':20, 'Mumbai':65 , 'nagpur':85}\n",
    "dic_1['kolkata']=84\n",
    "print('new key-value pair to a dictionary:',dic_1)\n"
   ]
  },
  {
   "cell_type": "markdown",
   "id": "ab9075e7",
   "metadata": {},
   "source": [
    "Question 3: Write a Python program to remove a key-value pair from a dictionary."
   ]
  },
  {
   "cell_type": "code",
   "execution_count": 13,
   "id": "d9003d48",
   "metadata": {},
   "outputs": [
    {
     "name": "stdout",
     "output_type": "stream",
     "text": [
      "new key-value pair to a dictionary: {'delhi': 20, 'Mumbai': 65, 'nagpur': 85}\n"
     ]
    }
   ],
   "source": [
    "dic_1={'jaipur':25, 'delhi':20, 'Mumbai':65 , 'nagpur':85}\n",
    "del dic_1['jaipur']\n",
    "print('new key-value pair to a dictionary:',dic_1)\n"
   ]
  },
  {
   "cell_type": "markdown",
   "id": "2dcd7b25",
   "metadata": {},
   "source": [
    "Question 4: Write a Python program to check if a key exists in a dictionary."
   ]
  },
  {
   "cell_type": "code",
   "execution_count": 14,
   "id": "2d4b6ee6",
   "metadata": {},
   "outputs": [
    {
     "data": {
      "text/plain": [
       "20"
      ]
     },
     "execution_count": 14,
     "metadata": {},
     "output_type": "execute_result"
    }
   ],
   "source": [
    "dic_3={'jaipur':25, 'delhi':20, 'Mumbai':65 , 'nagpur':85}\n",
    "dic_3.keys()\n",
    "dic_3.get('delhi')\n"
   ]
  },
  {
   "cell_type": "markdown",
   "id": "85aa4aac",
   "metadata": {},
   "source": [
    "Question 5: Write a Python program to iterate over the keys and values of a dictionary."
   ]
  },
  {
   "cell_type": "code",
   "execution_count": 15,
   "id": "fe37894a",
   "metadata": {},
   "outputs": [
    {
     "name": "stdout",
     "output_type": "stream",
     "text": [
      "Key: jaipur Value: 26\n",
      "Key: delhi Value: 20\n",
      "Key: Mumbai Value: 65\n",
      "Key: nagpur Value: 85\n"
     ]
    }
   ],
   "source": [
    "dic_3 = {'jaipur': 25, 'delhi': 20, 'Mumbai': 65, 'nagpur': 85, 'jaipur': 26}\n",
    "for key, value in dic_3.items():\n",
    "    print(\"Key:\", key, \"Value:\", value)\n"
   ]
  },
  {
   "cell_type": "markdown",
   "id": "033536fe",
   "metadata": {},
   "source": [
    "Question 6: Write a Python program to find the length of a dictionary."
   ]
  },
  {
   "cell_type": "code",
   "execution_count": 16,
   "id": "cfd7c23d",
   "metadata": {},
   "outputs": [
    {
     "data": {
      "text/plain": [
       "4"
      ]
     },
     "execution_count": 16,
     "metadata": {},
     "output_type": "execute_result"
    }
   ],
   "source": [
    "dic_3 = {'jaipur': 25, 'delhi': 20, 'Mumbai': 65, 'nagpur': 85}\n",
    "len(dic_3)\n"
   ]
  },
  {
   "cell_type": "markdown",
   "id": "2ddb8e3b",
   "metadata": {},
   "source": [
    "Question 7: Write a Python program to merge two dictionaries."
   ]
  },
  {
   "cell_type": "code",
   "execution_count": 17,
   "id": "fad0545b",
   "metadata": {},
   "outputs": [
    {
     "data": {
      "text/plain": [
       "{'jaipur': 25, 'delhi': 20, 'Mumbai': 65, 'nagpur': 85, 'jammu': 65, 'pune': 2}"
      ]
     },
     "execution_count": 17,
     "metadata": {},
     "output_type": "execute_result"
    }
   ],
   "source": [
    "dic_3 = {'jaipur': 25, 'delhi': 20, 'Mumbai': 65, 'nagpur': 85}\n",
    "dic_4 ={'jammu': 65 , 'pune':2}\n",
    "dic_3.update(dic_4)\n",
    "dic_3\n"
   ]
  },
  {
   "cell_type": "markdown",
   "id": "557e1d20",
   "metadata": {},
   "source": [
    "Question 8: Write a Python program to find the maximum and minimum values in a dictionary."
   ]
  },
  {
   "cell_type": "code",
   "execution_count": 18,
   "id": "32de8567",
   "metadata": {},
   "outputs": [
    {
     "name": "stdout",
     "output_type": "stream",
     "text": [
      "maximum value is: 85\n",
      "minimum value is: 20\n"
     ]
    }
   ],
   "source": [
    "dic_3 = {'jaipur': 25, 'delhi': 20, 'Mumbai': 65, 'nagpur': 85}\n",
    "print('maximum value is:',max (dic_3.values()))\n",
    "print('minimum value is:',min (dic_3.values()))\n"
   ]
  },
  {
   "cell_type": "markdown",
   "id": "28899eff",
   "metadata": {},
   "source": [
    "Question 9: Write a Python program to count the occurrences of each value in a dictionary."
   ]
  },
  {
   "cell_type": "code",
   "execution_count": 19,
   "id": "12e4722c",
   "metadata": {},
   "outputs": [
    {
     "name": "stdout",
     "output_type": "stream",
     "text": [
      "Value: 25, Occurrences: 1\n",
      "Value: 20, Occurrences: 1\n",
      "Value: 65, Occurrences: 1\n",
      "Value: 85, Occurrences: 1\n"
     ]
    }
   ],
   "source": [
    "dic_3 = {'jaipur': 25, 'delhi': 20, 'Mumbai': 65, 'nagpur': 85}\n",
    "\n",
    "value_counts = {}  \n",
    "\n",
    "for value in dic_3.values():\n",
    "    if value in value_counts:\n",
    "        value_counts[value] += 1\n",
    "    else:\n",
    "        value_counts[value] = 1\n",
    "\n",
    "for value, count in value_counts.items():\n",
    "    print(f\"Value: {value}, Occurrences: {count}\")\n"
   ]
  },
  {
   "cell_type": "markdown",
   "id": "9d363781",
   "metadata": {},
   "source": [
    "Question 10: Write a Python program to sort a dictionary by its values."
   ]
  },
  {
   "cell_type": "code",
   "execution_count": 20,
   "id": "cb131b21",
   "metadata": {},
   "outputs": [
    {
     "data": {
      "text/plain": [
       "[20, 25, 65, 85]"
      ]
     },
     "execution_count": 20,
     "metadata": {},
     "output_type": "execute_result"
    }
   ],
   "source": [
    "dic_3 = {'jaipur': 25, 'delhi': 20, 'Mumbai': 65, 'nagpur': 85}\n",
    "sorted(dic_3.values())\n"
   ]
  },
  {
   "cell_type": "code",
   "execution_count": null,
   "id": "946ff49a",
   "metadata": {},
   "outputs": [],
   "source": []
  }
 ],
 "metadata": {
  "kernelspec": {
   "display_name": "Python 3 (ipykernel)",
   "language": "python",
   "name": "python3"
  },
  "language_info": {
   "codemirror_mode": {
    "name": "ipython",
    "version": 3
   },
   "file_extension": ".py",
   "mimetype": "text/x-python",
   "name": "python",
   "nbconvert_exporter": "python",
   "pygments_lexer": "ipython3",
   "version": "3.11.5"
  }
 },
 "nbformat": 4,
 "nbformat_minor": 5
}
