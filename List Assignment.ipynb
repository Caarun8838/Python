{
 "cells": [
  {
   "cell_type": "markdown",
   "id": "07b9a167",
   "metadata": {},
   "source": [
    "# Python Coding Assignment On List"
   ]
  },
  {
   "cell_type": "markdown",
   "id": "5ba4addb",
   "metadata": {},
   "source": [
    "Question 1: Write a Python program to count the number of elements in a list."
   ]
  },
  {
   "cell_type": "code",
   "execution_count": 1,
   "id": "53b280eb",
   "metadata": {},
   "outputs": [
    {
     "name": "stdout",
     "output_type": "stream",
     "text": [
      "count the number of elements is: 6\n"
     ]
    }
   ],
   "source": [
    "a = [100,200,300.56,'raja','priya',200]\n",
    "\n",
    "elements=len(a)\n",
    "print('count the number of elements is:', elements)\n"
   ]
  },
  {
   "cell_type": "markdown",
   "id": "cf84f786",
   "metadata": {},
   "source": [
    "Question 2: Write a Python program to find the maximum and minimum values in a given list."
   ]
  },
  {
   "cell_type": "code",
   "execution_count": 4,
   "id": "d0d297bd",
   "metadata": {},
   "outputs": [
    {
     "name": "stdout",
     "output_type": "stream",
     "text": [
      "maximum value is: 300.56\n",
      "Minimum value is: 100\n"
     ]
    }
   ],
   "source": [
    "ab = [100,200,300.56,200]\n",
    "\n",
    "maximum_value=max(ab)\n",
    "minimum_values=min(ab)\n",
    "print('maximum value is:', maximum_value)\n",
    "print('Minimum value is:',minimum_values) "
   ]
  },
  {
   "cell_type": "markdown",
   "id": "313a0981",
   "metadata": {},
   "source": [
    "Question 3: Write a Python program to remove the first occurrence of a specified element from a list."
   ]
  },
  {
   "cell_type": "code",
   "execution_count": 5,
   "id": "9e6d3037",
   "metadata": {},
   "outputs": [
    {
     "name": "stdout",
     "output_type": "stream",
     "text": [
      "[200, 300.56, 200]\n"
     ]
    }
   ],
   "source": [
    "ab = [100,200,300.56,200]\n",
    "ab.remove(100)\n",
    "print(ab)\n"
   ]
  },
  {
   "cell_type": "markdown",
   "id": "17d00d0e",
   "metadata": {},
   "source": [
    "Question 4: Write a Python program to find the average of all the elements in a list."
   ]
  },
  {
   "cell_type": "code",
   "execution_count": 8,
   "id": "3be68c1e",
   "metadata": {},
   "outputs": [
    {
     "name": "stdout",
     "output_type": "stream",
     "text": [
      "average of all the elements in a list is: 27.625\n"
     ]
    }
   ],
   "source": [
    "a = [10 , 20 , 30 , 50.5 ]\n",
    "sum_Elements=sum(a)\n",
    "count_elements=len(a)\n",
    "average=sum_Elements/count_elements\n",
    "print('average of all the elements in a list is:', average )\n"
   ]
  },
  {
   "cell_type": "markdown",
   "id": "2b76872d",
   "metadata": {},
   "source": [
    "Question 5: Write a Python program to check if a list is empty or not."
   ]
  },
  {
   "cell_type": "code",
   "execution_count": 9,
   "id": "4bddd186",
   "metadata": {},
   "outputs": [
    {
     "name": "stdout",
     "output_type": "stream",
     "text": [
      "list a is not empty\n",
      "list b is empty\n"
     ]
    }
   ],
   "source": [
    "def empty_list(list_check):\n",
    "    if not list_check:\n",
    "        return True\n",
    "    else:\n",
    "        False\n",
    "        \n",
    "a = [10 , 20 , 30 , 50.5 ]\n",
    "b=[]\n",
    "\n",
    "if empty_list(a):\n",
    "    print('list a is empty')\n",
    "else:\n",
    "    print('list a is not empty')\n",
    "    \n",
    "if empty_list(b):\n",
    "    print('list b is empty')\n",
    "else:\n",
    "    print('list b is not empty')    \n"
   ]
  },
  {
   "cell_type": "markdown",
   "id": "8640e833",
   "metadata": {},
   "source": [
    "Question 6: Write a Python program to find the index of a specified element in a list."
   ]
  },
  {
   "cell_type": "code",
   "execution_count": 10,
   "id": "691a448b",
   "metadata": {},
   "outputs": [
    {
     "name": "stdout",
     "output_type": "stream",
     "text": [
      "index number of 30 is: 2\n"
     ]
    }
   ],
   "source": [
    "a = [10 , 20 , 30 , 50.5 ]\n",
    "index_number=a.index(30)\n",
    "print('index number of 30 is:', index_number)\n"
   ]
  },
  {
   "cell_type": "markdown",
   "id": "911e2d64",
   "metadata": {},
   "source": [
    "Question 7: Write a Python program to concatenate two lists."
   ]
  },
  {
   "cell_type": "code",
   "execution_count": 11,
   "id": "3c305c6b",
   "metadata": {},
   "outputs": [
    {
     "name": "stdout",
     "output_type": "stream",
     "text": [
      "[10, 20, 30, 50.5, 1, 2, 3, 50]\n"
     ]
    }
   ],
   "source": [
    "a = [10 , 20 , 30 , 50.5 ]\n",
    "b = [1 , 2 , 3 , 50 ]\n",
    "ab=a+b\n",
    "print(ab)\n"
   ]
  },
  {
   "cell_type": "markdown",
   "id": "4cbe0d76",
   "metadata": {},
   "source": [
    "Question 8: Write a Python program to find the common elements between two lists."
   ]
  },
  {
   "cell_type": "code",
   "execution_count": 12,
   "id": "639d6441",
   "metadata": {},
   "outputs": [
    {
     "name": "stdout",
     "output_type": "stream",
     "text": [
      "common elements between two lists is: [10, 30]\n"
     ]
    }
   ],
   "source": [
    "a = [10 , 20 , 30 , 50.5 ]\n",
    "b = [10 , 2 , 30 , 50 ]\n",
    "common_elements=list(set(a) & set(b))\n",
    "print('common elements between two lists is:',common_elements )\n"
   ]
  },
  {
   "cell_type": "markdown",
   "id": "0a2b6077",
   "metadata": {},
   "source": [
    "Question 9: Write a Python program to remove the duplicates from a list while preserving the order of elements."
   ]
  },
  {
   "cell_type": "code",
   "execution_count": 13,
   "id": "799ddf1f",
   "metadata": {},
   "outputs": [
    {
     "data": {
      "text/plain": [
       "[10, 20, 30, 50]"
      ]
     },
     "execution_count": 13,
     "metadata": {},
     "output_type": "execute_result"
    }
   ],
   "source": [
    "a = [10 , 20 , 30 , 10, 50, 30 ]\n",
    "remove=set()\n",
    "result=[]\n",
    "def elements_remove(list_remove):\n",
    "    for item in list_remove:\n",
    "        if item not in remove:\n",
    "            result.append(item)\n",
    "            remove.add(item)\n",
    "    return result\n",
    "\n",
    "elements_list=elements_remove(a)        \n",
    "elements_list\n"
   ]
  },
  {
   "cell_type": "markdown",
   "id": "0055ec50",
   "metadata": {},
   "source": [
    "Question 10: Write a Python program to sort a list of strings in alphabetical order"
   ]
  },
  {
   "cell_type": "code",
   "execution_count": 15,
   "id": "4a0f55ce",
   "metadata": {},
   "outputs": [
    {
     "name": "stdout",
     "output_type": "stream",
     "text": [
      "['delhi', 'jaipur', 'kanpur', 'mumbai']\n"
     ]
    }
   ],
   "source": [
    "a = ['jaipur', 'mumbai', 'delhi', 'kanpur']\n",
    "sort_1=sorted(a)\n",
    "print(sort_1)\n"
   ]
  },
  {
   "cell_type": "code",
   "execution_count": null,
   "id": "4bd846d4",
   "metadata": {},
   "outputs": [],
   "source": []
  }
 ],
 "metadata": {
  "kernelspec": {
   "display_name": "Python 3 (ipykernel)",
   "language": "python",
   "name": "python3"
  },
  "language_info": {
   "codemirror_mode": {
    "name": "ipython",
    "version": 3
   },
   "file_extension": ".py",
   "mimetype": "text/x-python",
   "name": "python",
   "nbconvert_exporter": "python",
   "pygments_lexer": "ipython3",
   "version": "3.11.5"
  }
 },
 "nbformat": 4,
 "nbformat_minor": 5
}
