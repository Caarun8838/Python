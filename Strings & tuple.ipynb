{
 "cells": [
  {
   "cell_type": "markdown",
   "id": "3654653b",
   "metadata": {},
   "source": [
    "# Python Coding Assignment On Strings"
   ]
  },
  {
   "cell_type": "markdown",
   "id": "278c9c0f",
   "metadata": {},
   "source": [
    "##Question 1: Write a Python program to count the number of characters in a string."
   ]
  },
  {
   "cell_type": "code",
   "execution_count": 4,
   "id": "0940e945",
   "metadata": {},
   "outputs": [
    {
     "name": "stdout",
     "output_type": "stream",
     "text": [
      "number of characters is 18\n"
     ]
    }
   ],
   "source": [
    "a='python program2023'\n",
    "\n",
    "def count_characters(a):\n",
    "    return len(a)\n",
    "\n",
    "Ch_count = count_characters(a)\n",
    "\n",
    "print('number of characters is', caracters_count)"
   ]
  },
  {
   "cell_type": "code",
   "execution_count": 6,
   "id": "1747fa3d",
   "metadata": {},
   "outputs": [
    {
     "data": {
      "text/plain": [
       "18"
      ]
     },
     "execution_count": 6,
     "metadata": {},
     "output_type": "execute_result"
    }
   ],
   "source": [
    "len(a)"
   ]
  },
  {
   "cell_type": "markdown",
   "id": "3548dae3",
   "metadata": {},
   "source": [
    "##Question 2: Write a Python program to reverse a string."
   ]
  },
  {
   "cell_type": "code",
   "execution_count": 4,
   "id": "9b294b4f",
   "metadata": {},
   "outputs": [
    {
     "name": "stdout",
     "output_type": "stream",
     "text": [
      "reverse string is = 3202margorp nohtyp\n"
     ]
    }
   ],
   "source": [
    "a='python program2023'\n",
    "\n",
    "def reverse_string(reverse_str):\n",
    "    return reverse_str[::-1]\n",
    "\n",
    "reverse_a=reverse_string(a)\n",
    "print('reverse string is =', reverse_a )\n"
   ]
  },
  {
   "cell_type": "code",
   "execution_count": 5,
   "id": "3967832e",
   "metadata": {},
   "outputs": [
    {
     "name": "stdout",
     "output_type": "stream",
     "text": [
      "3202margorp nohtyp\n"
     ]
    }
   ],
   "source": [
    "reverse_car=a[::-1]\n",
    "print(reverse_car)"
   ]
  },
  {
   "cell_type": "markdown",
   "id": "977e1b41",
   "metadata": {},
   "source": [
    "##Question 3: Write a Python program to check if a string is a palindrome."
   ]
  },
  {
   "cell_type": "code",
   "execution_count": 6,
   "id": "b6c302a3",
   "metadata": {},
   "outputs": [
    {
     "name": "stdout",
     "output_type": "stream",
     "text": [
      "madam  is a palandrom string\n"
     ]
    }
   ],
   "source": [
    "ch='madam'\n",
    "if ch==ch[::-1]:\n",
    "    print(ch , ' is a palandrom string')\n",
    "else:\n",
    "    print(ch , 'is not a palandrom string')\n",
    "        \n"
   ]
  },
  {
   "cell_type": "markdown",
   "id": "a218d765",
   "metadata": {},
   "source": [
    "Question 4: Write a Python program to find the most common character in a string."
   ]
  },
  {
   "cell_type": "code",
   "execution_count": 8,
   "id": "785dda9b",
   "metadata": {},
   "outputs": [
    {
     "name": "stdout",
     "output_type": "stream",
     "text": [
      "The most common character in the string is: 'a'\n"
     ]
    }
   ],
   "source": [
    "name='sujoy bhattacharya'\n",
    "\n",
    "from collections import Counter\n",
    "\n",
    "def most_common_character(input_string):\n",
    "    char_count = Counter(input_string)\n",
    "    most_common = char_count.most_common(1)[0]\n",
    "    return most_common[0]\n",
    "\n",
    "name = 'sujoy bhattacharya'\n",
    "\n",
    "most_common_char = most_common_character(name)\n",
    "print(f\"The most common character in the string is: '{most_common_char}'\")\n"
   ]
  },
  {
   "cell_type": "markdown",
   "id": "eca2f60e",
   "metadata": {},
   "source": [
    "Question 5: Write a Python program to check if two strings are anagrams"
   ]
  },
  {
   "cell_type": "code",
   "execution_count": 9,
   "id": "b02b8253",
   "metadata": {},
   "outputs": [
    {
     "name": "stdout",
     "output_type": "stream",
     "text": [
      "enter_string1Arunkumar\n",
      "enter_string2Manoharan\n",
      "this strings are anagrams\n"
     ]
    }
   ],
   "source": [
    "str1=input('enter_string1')\n",
    "str2=input('enter_string2')\n",
    "if len(str1)!=len(str2):\n",
    "    print(\"not a anagrams string\")\n",
    "else:\n",
    "    if sorted(str1)==sorted(str1):\n",
    "          print('this strings are anagrams')\n",
    "    else:\n",
    "        print('not a anagrams string')\n"
   ]
  },
  {
   "cell_type": "markdown",
   "id": "4bba9d84",
   "metadata": {},
   "source": [
    "Question 6: Write a Python program to remove all the vowels from a string."
   ]
  },
  {
   "cell_type": "code",
   "execution_count": 9,
   "id": "95b6c2ff",
   "metadata": {},
   "outputs": [
    {
     "name": "stdout",
     "output_type": "stream",
     "text": [
      "write wordshai how are you\n",
      "string without vovels hi how re you\n"
     ]
    }
   ],
   "source": [
    "vovels='AEIOUaeiou'\n",
    "def remove_vovels(str):\n",
    "    for i in str:\n",
    "        if i in vovels:\n",
    "            str= str.replace(i,\"\")\n",
    "            return str\n",
    "nam=input('write words')\n",
    "without_vovels=remove_vovels(nam)\n",
    "        \n",
    "print('string without vovels', without_vovels)"
   ]
  },
  {
   "cell_type": "markdown",
   "id": "35e322d1",
   "metadata": {},
   "source": [
    "Question 7: Write a Python program to find the longest word in a string."
   ]
  },
  {
   "cell_type": "code",
   "execution_count": 10,
   "id": "825857cf",
   "metadata": {},
   "outputs": [
    {
     "name": "stdout",
     "output_type": "stream",
     "text": [
      "write the words= my name is arunkumar working as a data aanlyst\n",
      "Longest word: arunkumar\n"
     ]
    }
   ],
   "source": [
    "def longest_word(string):\n",
    "    words=string.split()\n",
    "    longest=\"\"\n",
    "    for i in words:\n",
    "        if len(i)>len(longest):\n",
    "            longest=i\n",
    "    return longest\n",
    "words=input('write the words= ' )\n",
    "longest=longest_word(words)\n",
    "\n",
    "print('Longest word:', longest)\n"
   ]
  },
  {
   "cell_type": "markdown",
   "id": "858766fc",
   "metadata": {},
   "source": [
    "Question 8: Write a Python program to capitalize the first letter of each word in a string."
   ]
  },
  {
   "cell_type": "code",
   "execution_count": 19,
   "id": "9c09913b",
   "metadata": {},
   "outputs": [
    {
     "name": "stdout",
     "output_type": "stream",
     "text": [
      "enter=programming language are python,html,c,c++\n"
     ]
    },
    {
     "data": {
      "text/plain": [
       "'Programming Language Are Python,Html,C,C++'"
      ]
     },
     "execution_count": 19,
     "metadata": {},
     "output_type": "execute_result"
    }
   ],
   "source": [
    "cap=input (\"enter=\")\n",
    "cap.title()"
   ]
  },
  {
   "cell_type": "markdown",
   "id": "1e4f414b",
   "metadata": {},
   "source": [
    "Question 9: Write a Python program to find the frequency of each character in a string."
   ]
  },
  {
   "cell_type": "code",
   "execution_count": 1,
   "id": "9b8958b3",
   "metadata": {},
   "outputs": [
    {
     "name": "stdout",
     "output_type": "stream",
     "text": [
      "enter_string=arunkumar\n",
      "{'a': 2, 'r': 2, 'u': 2, 'n': 1, 'k': 1, 'm': 1}\n"
     ]
    }
   ],
   "source": [
    "str_1=input ('enter_string=')\n",
    "d1=dict()\n",
    "for i in str_1:\n",
    "    if i in d1:\n",
    "        d1[i]=d1[i]+1\n",
    "    else:\n",
    "         d1[i]=1\n",
    "print(d1)    "
   ]
  },
  {
   "cell_type": "markdown",
   "id": "42a9fce9",
   "metadata": {},
   "source": [
    "Question 10: Write a Python program to check if a string is a valid email address."
   ]
  },
  {
   "cell_type": "code",
   "execution_count": 3,
   "id": "aea0d885",
   "metadata": {},
   "outputs": [
    {
     "name": "stdout",
     "output_type": "stream",
     "text": [
      "Enter to validate Mail Id:caarunkumarm@gmail.com\n",
      "Valid Email\n"
     ]
    }
   ],
   "source": [
    "import re\n",
    "\n",
    "validate = r'\\b[A-Za-z0-9._%+-]+@[A-Za-z0-9.-]+\\.[A-Z|a-z]{2,7}\\b'\n",
    "\n",
    "def check(email):\n",
    "    if(re.fullmatch(validate, email)):\n",
    "        print(\"Valid Email\")\n",
    "    else:\n",
    "        print(\"Invalid Email\")\n",
    "\n",
    "\n",
    "if __name__ == '__main__':\n",
    "        \n",
    "        email = input('Enter to validate Mail Id:')\n",
    "        check (email)\n"
   ]
  },
  {
   "cell_type": "markdown",
   "id": "e8444079",
   "metadata": {},
   "source": [
    "# Python Coding On Tuple Assignment"
   ]
  },
  {
   "cell_type": "markdown",
   "id": "1b49cc71",
   "metadata": {},
   "source": [
    "Question 1: Write a Python program to create an empty tuple."
   ]
  },
  {
   "cell_type": "code",
   "execution_count": 6,
   "id": "3b7eacb2",
   "metadata": {},
   "outputs": [
    {
     "data": {
      "text/plain": [
       "tuple"
      ]
     },
     "execution_count": 6,
     "metadata": {},
     "output_type": "execute_result"
    }
   ],
   "source": [
    "empty_tuple=tuple()\n",
    "type(empty_tuple)\n"
   ]
  },
  {
   "cell_type": "markdown",
   "id": "15a48774",
   "metadata": {},
   "source": [
    "Question 2: Write a Python program to access the elements of a tuple."
   ]
  },
  {
   "cell_type": "code",
   "execution_count": 7,
   "id": "a248499d",
   "metadata": {},
   "outputs": [
    {
     "name": "stdout",
     "output_type": "stream",
     "text": [
      "elements_1: 10 elements_2: 20.5 elements_3: python\n"
     ]
    }
   ],
   "source": [
    "a = (10,20.5,'python')\n",
    "elements_1=a[0]\n",
    "elements_2=a[1]\n",
    "elements_3=a[2]\n",
    "\n",
    "print('elements_1:',elements_1 , 'elements_2:',elements_2, 'elements_3:',elements_3)\n"
   ]
  },
  {
   "cell_type": "markdown",
   "id": "957e6700",
   "metadata": {},
   "source": [
    "Question 3: Write a Python program to concatenate two tuples"
   ]
  },
  {
   "cell_type": "code",
   "execution_count": 10,
   "id": "065076b8",
   "metadata": {},
   "outputs": [
    {
     "name": "stdout",
     "output_type": "stream",
     "text": [
      "(10, 20.5, 'python', 1, 2.5, 'code')\n"
     ]
    }
   ],
   "source": [
    "a = (10,20.5,'python') \n",
    "b= (1,2.5,'code')\n",
    "ab=a+b \n",
    "print(ab)"
   ]
  },
  {
   "cell_type": "markdown",
   "id": "a8c64049",
   "metadata": {},
   "source": [
    "Question 4: Write a Python program to find the length of a tuple."
   ]
  },
  {
   "cell_type": "code",
   "execution_count": 11,
   "id": "f00bb7db",
   "metadata": {},
   "outputs": [
    {
     "data": {
      "text/plain": [
       "3"
      ]
     },
     "execution_count": 11,
     "metadata": {},
     "output_type": "execute_result"
    }
   ],
   "source": [
    "a = (10,20.5,'python')\n",
    "len(a)\n"
   ]
  },
  {
   "cell_type": "markdown",
   "id": "ee936636",
   "metadata": {},
   "source": [
    "Question 5: Write a Python program to convert a tuple into a list."
   ]
  },
  {
   "cell_type": "code",
   "execution_count": 12,
   "id": "bab7f2eb",
   "metadata": {},
   "outputs": [
    {
     "data": {
      "text/plain": [
       "[10, 20.5, 'python']"
      ]
     },
     "execution_count": 12,
     "metadata": {},
     "output_type": "execute_result"
    }
   ],
   "source": [
    "a = (10,20.5,'python')\n",
    "list_a=list(a)\n",
    "list_a\n"
   ]
  },
  {
   "cell_type": "markdown",
   "id": "2e99ac34",
   "metadata": {},
   "source": [
    "Question 6: Write a Python program to find the maximum and minimum elements in a tuple."
   ]
  },
  {
   "cell_type": "code",
   "execution_count": 13,
   "id": "b53c38bf",
   "metadata": {},
   "outputs": [
    {
     "name": "stdout",
     "output_type": "stream",
     "text": [
      "maximum elements 102\n",
      "minimum elements 5\n"
     ]
    }
   ],
   "source": [
    "a = (10,20.5,102, 41 , 5)\n",
    "print('maximum elements', max(a))\n",
    "print('minimum elements', min(a))\n"
   ]
  },
  {
   "cell_type": "markdown",
   "id": "6be996f4",
   "metadata": {},
   "source": [
    "Question 7: Write a Python program to check if an element exists in a tuple."
   ]
  },
  {
   "cell_type": "code",
   "execution_count": 14,
   "id": "57fe74bf",
   "metadata": {},
   "outputs": [
    {
     "name": "stdout",
     "output_type": "stream",
     "text": [
      "102 exists in the tuple.\n"
     ]
    }
   ],
   "source": [
    "a = (10, 20.5, 102, 41, 5)\n",
    "\n",
    "element_to_check = 102\n",
    "\n",
    "if element_to_check in a:\n",
    "    print(f\"{element_to_check} exists in the tuple.\")\n",
    "else:\n",
    "    print(f\"{element_to_check} does not exist in the tuple.\")\n"
   ]
  },
  {
   "cell_type": "markdown",
   "id": "34da53a4",
   "metadata": {},
   "source": [
    "Question 8: Write a Python program to count the number of occurrences of an element in a tuple."
   ]
  },
  {
   "cell_type": "code",
   "execution_count": 15,
   "id": "7e03a183",
   "metadata": {},
   "outputs": [
    {
     "name": "stdout",
     "output_type": "stream",
     "text": [
      "The element 10 appears 2 times in the tuple.\n"
     ]
    }
   ],
   "source": [
    "a = (10, 20.5, 102, 41, 5,10)\n",
    "\n",
    "element_to_count = 10\n",
    "\n",
    "count = a.count(element_to_count)\n",
    "\n",
    "print(f\"The element {element_to_count} appears {count} times in the tuple.\")\n"
   ]
  },
  {
   "cell_type": "markdown",
   "id": "6377ef04",
   "metadata": {},
   "source": [
    "Question 9: Write a Python program to slice a tuple."
   ]
  },
  {
   "cell_type": "code",
   "execution_count": 16,
   "id": "f7a6b660",
   "metadata": {},
   "outputs": [
    {
     "data": {
      "text/plain": [
       "slice(None, (10, 102, 5), None)"
      ]
     },
     "execution_count": 16,
     "metadata": {},
     "output_type": "execute_result"
    }
   ],
   "source": [
    "a = (10, 20.5, 102, 41, 5,10)\n",
    "slice(a[0:10:2])\n"
   ]
  },
  {
   "cell_type": "markdown",
   "id": "47753209",
   "metadata": {},
   "source": [
    "Question 10: Write a Python program to unpack a tuple into multiple variables"
   ]
  },
  {
   "cell_type": "code",
   "execution_count": 17,
   "id": "8a7f461c",
   "metadata": {},
   "outputs": [
    {
     "name": "stdout",
     "output_type": "stream",
     "text": [
      "Name: ravi\n",
      "Age: 30\n",
      "City: delhi\n"
     ]
    }
   ],
   "source": [
    "# Example tuple\n",
    "person_info = (\"ravi\", 30, \"delhi\")\n",
    "\n",
    "# Unpacking the tuple into variables\n",
    "name, age, city = person_info\n",
    "\n",
    "print(\"Name:\", name)\n",
    "print(\"Age:\", age)\n",
    "print(\"City:\", city)\n"
   ]
  },
  {
   "cell_type": "code",
   "execution_count": null,
   "id": "4e7e3939",
   "metadata": {},
   "outputs": [],
   "source": []
  }
 ],
 "metadata": {
  "kernelspec": {
   "display_name": "Python 3 (ipykernel)",
   "language": "python",
   "name": "python3"
  },
  "language_info": {
   "codemirror_mode": {
    "name": "ipython",
    "version": 3
   },
   "file_extension": ".py",
   "mimetype": "text/x-python",
   "name": "python",
   "nbconvert_exporter": "python",
   "pygments_lexer": "ipython3",
   "version": "3.11.5"
  }
 },
 "nbformat": 4,
 "nbformat_minor": 5
}
